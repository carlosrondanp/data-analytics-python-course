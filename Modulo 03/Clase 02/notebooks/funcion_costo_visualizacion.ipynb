{
 "cells": [
  {
   "cell_type": "code",
   "execution_count": 1,
   "metadata": {},
   "outputs": [],
   "source": [
    "%matplotlib inline"
   ]
  },
  {
   "cell_type": "code",
   "execution_count": 2,
   "metadata": {},
   "outputs": [
    {
     "data": {
      "application/vnd.jupyter.widget-view+json": {
       "model_id": "f89f2162a2d24eaca749e1ffebce96c2",
       "version_major": 2,
       "version_minor": 0
      },
      "text/plain": [
       "interactive(children=(IntSlider(value=200, description='w', max=400, step=10), IntSlider(value=0, description=…"
      ]
     },
     "metadata": {},
     "output_type": "display_data"
    },
    {
     "data": {
      "text/plain": [
       "<function __main__.plot_interactive(w=200, b=0)>"
      ]
     },
     "execution_count": 2,
     "metadata": {},
     "output_type": "execute_result"
    }
   ],
   "source": [
    "import numpy as np\n",
    "import matplotlib.pyplot as plt\n",
    "from ipywidgets import interact\n",
    "import ipywidgets as widgets\n",
    "\n",
    "# Datos simulados\n",
    "x = np.array([1, 1.5, 2, 2.5, 3])  # Tamaño de casas (1000 sqft)\n",
    "y_actual = np.array([400, 600, 800, 1000, 1200])  # Precio real (1000s de dólares)\n",
    "m = len(x)\n",
    "\n",
    "# Función de predicción\n",
    "def predict(x, w, b):\n",
    "    return w * x + b\n",
    "\n",
    "# Función de costo\n",
    "def cost_function(x, y, w, b):\n",
    "    predictions = predict(x, w, b)\n",
    "    cost = (1 / (2 * m)) * np.sum((predictions - y) ** 2)\n",
    "    return cost\n",
    "\n",
    "# Función para graficar\n",
    "def plot_interactive(w=200, b=0):\n",
    "    # Calcular predicciones y costo\n",
    "    y_pred = predict(x, w, b)\n",
    "    cost = cost_function(x, y_actual, w, b)\n",
    "\n",
    "    # Crear figura\n",
    "    fig, (ax1, ax2) = plt.subplots(1, 2, figsize=(12, 5))\n",
    "\n",
    "    # Gráfico 1: Predicciones vs Valores reales\n",
    "    ax1.plot(x, y_pred, label=\"Our Prediction\", color=\"blue\", linewidth=2)\n",
    "    ax1.scatter(x, y_actual, color=\"red\", label=\"Actual Value\", zorder=5)\n",
    "    ax1.vlines(x, y_pred, y_actual, colors=\"purple\", linestyles=\"dashed\", label=\"Cost for point\")\n",
    "    ax1.set_title(\"Housing Prices\")\n",
    "    ax1.set_xlabel(\"Size (1000 sqft)\")\n",
    "    ax1.set_ylabel(\"Price (in 1000s of dollars)\")\n",
    "    ax1.legend()\n",
    "    ax1.text(1.1, 300, f\"Cost = {cost:.2f}\", fontsize=12, color=\"purple\")\n",
    "\n",
    "    # Gráfico 2: Costo vs w (b fijo)\n",
    "    w_vals = np.linspace(0, 400, 100)\n",
    "    costs = [cost_function(x, y_actual, w_val, b) for w_val in w_vals]\n",
    "    ax2.plot(w_vals, costs, label=\"Cost\", color=\"blue\")\n",
    "    ax2.scatter([w], [cost_function(x, y_actual, w, b)], color=\"red\", label=f\"Cost at w={w}\")\n",
    "    ax2.set_title(\"Cost vs. w (b fixed)\")\n",
    "    ax2.set_xlabel(\"w\")\n",
    "    ax2.set_ylabel(\"Cost\")\n",
    "    ax2.legend()\n",
    "\n",
    "    plt.tight_layout()\n",
    "    plt.show()\n",
    "\n",
    "# Interactividad con ipywidgets\n",
    "interact(plot_interactive, \n",
    "         w=widgets.IntSlider(value=200, min=0, max=400, step=10, description=\"w\"), \n",
    "         b=widgets.IntSlider(value=0, min=-200, max=200, step=10, description=\"b\"))"
   ]
  },
  {
   "cell_type": "code",
   "execution_count": 3,
   "metadata": {},
   "outputs": [
    {
     "data": {
      "application/vnd.jupyter.widget-view+json": {
       "model_id": "da44da49ca5143efbdb0ba50bd55906b",
       "version_major": 2,
       "version_minor": 0
      },
      "text/plain": [
       "interactive(children=(FloatSlider(value=100.0, description='w', max=500.0, step=10.0), FloatSlider(value=0.0, …"
      ]
     },
     "metadata": {},
     "output_type": "display_data"
    },
    {
     "data": {
      "text/plain": [
       "<function __main__.update(w=100, b=0)>"
      ]
     },
     "execution_count": 3,
     "metadata": {},
     "output_type": "execute_result"
    }
   ],
   "source": [
    "import numpy as np\n",
    "import matplotlib.pyplot as plt\n",
    "from mpl_toolkits.mplot3d import Axes3D\n",
    "from ipywidgets import interact, FloatSlider\n",
    "import ipywidgets as widgets\n",
    "\n",
    "# Datos simulados\n",
    "x = np.array([1, 1.5, 2, 2.5, 3])  # Tamaños de casas (1000 sqft)\n",
    "y_actual = np.array([300, 400, 500, 600, 700])  # Precios reales (en 1000s de dólares)\n",
    "m = len(x)\n",
    "\n",
    "# Función de predicción\n",
    "def predict(x, w, b):\n",
    "    return w * x + b\n",
    "\n",
    "# Función de costo\n",
    "def cost_function(x, y, w, b):\n",
    "    predictions = predict(x, w, b)\n",
    "    cost = (1 / (2 * m)) * np.sum((predictions - y) ** 2)\n",
    "    return cost\n",
    "\n",
    "# Crear malla para la función de costo\n",
    "w_vals = np.linspace(0, 500, 100)\n",
    "b_vals = np.linspace(-200, 300, 100)\n",
    "W, B = np.meshgrid(w_vals, b_vals)\n",
    "Z = np.array([[cost_function(x, y_actual, w, b) for w in w_vals] for b in b_vals])\n",
    "\n",
    "# Función para actualizar las gráficas\n",
    "def update(w=100, b=0):\n",
    "    # Calcular predicciones y costo\n",
    "    y_pred = predict(x, w, b)\n",
    "    cost = cost_function(x, y_actual, w, b)\n",
    "\n",
    "    # Crear figura\n",
    "    fig = plt.figure(figsize=(12, 10))\n",
    "\n",
    "    # Subplot 1: Predicción vs Valores reales\n",
    "    ax1 = fig.add_subplot(2, 2, 1)\n",
    "    ax1.plot(x, y_pred, label=\"Our Prediction\", color=\"blue\", linewidth=2)\n",
    "    ax1.scatter(x, y_actual, color=\"red\", label=\"Actual Value\", zorder=5)\n",
    "    for i in range(len(x)):\n",
    "        ax1.vlines(x[i], y_pred[i], y_actual[i], colors=\"purple\", linestyles=\"dashed\", label=\"Cost for point\" if i == 0 else \"\")\n",
    "    ax1.set_title(\"Housing Prices\")\n",
    "    ax1.set_xlabel(\"Size (1000 sqft)\")\n",
    "    ax1.set_ylabel(\"Price (in 1000s of dollars)\")\n",
    "    ax1.legend()\n",
    "    ax1.text(1.1, 300, f\"Cost = {cost:.2f}\", fontsize=12, color=\"purple\")\n",
    "\n",
    "    # Subplot 2: Contorno de la función de costo\n",
    "    ax2 = fig.add_subplot(2, 2, 2)\n",
    "    contour = ax2.contour(W, B, Z, levels=50, cmap=\"viridis\")\n",
    "    ax2.scatter([w], [b], color=\"blue\", label=\"Current w, b\")\n",
    "    ax2.set_title(f\"Cost(w, b) - Cost: {cost:.2f}\")\n",
    "    ax2.set_xlabel(\"w\")\n",
    "    ax2.set_ylabel(\"b\")\n",
    "    ax2.legend()\n",
    "\n",
    "    # Subplot 3: Superficie 3D de la función de costo\n",
    "    ax3 = fig.add_subplot(2, 2, 3, projection=\"3d\")\n",
    "    ax3.plot_surface(W, B, Z, cmap=\"viridis\", alpha=0.8)\n",
    "    ax3.scatter([w], [b], [cost], color=\"red\", marker=\"x\", s=100, label=\"Current Point\")\n",
    "    ax3.set_title(\"Cost(w, b) [You can rotate this figure]\")\n",
    "    ax3.set_xlabel(\"w\")\n",
    "    ax3.set_ylabel(\"b\")\n",
    "    ax3.set_zlabel(\"J(w, b)\")\n",
    "    ax3.legend()\n",
    "\n",
    "    plt.tight_layout()\n",
    "    plt.show()\n",
    "\n",
    "# Crear sliders interactivos\n",
    "interactive_plot = interact(\n",
    "    update,\n",
    "    w=FloatSlider(value=100, min=0, max=500, step=10, description=\"w\"),\n",
    "    b=FloatSlider(value=0, min=-200, max=300, step=10, description=\"b\")\n",
    ")\n",
    "\n",
    "# Mostrar la interactividad\n",
    "interactive_plot"
   ]
  },
  {
   "cell_type": "code",
   "execution_count": 6,
   "metadata": {},
   "outputs": [
    {
     "data": {
      "text/html": [
       "\n",
       "<script>\n",
       "    require.config({\n",
       "        paths: {\n",
       "            'chartXkcd':'https://cdn.jsdelivr.net/npm/chart.xkcd@1.1/dist/chart.xkcd.min'\n",
       "        }\n",
       "    });\n",
       "</script>\n",
       "\n",
       "<div id=\"f07d6b46793147669e2834672b1b4da5\" class=\"chart-container\" style=\"width: 800px\">\n",
       "        <svg id=\"chart_f07d6b46793147669e2834672b1b4da5\"></svg>\n",
       "    </div>\n",
       "    <script>\n",
       "        require(['chartXkcd'], function(chartXkcd) {\n",
       "            const svg_f07d6b46793147669e2834672b1b4da5 = document.querySelector('#chart_f07d6b46793147669e2834672b1b4da5')\n",
       "            const chart_f07d6b46793147669e2834672b1b4da5 = new chartXkcd.Bar(svg_f07d6b46793147669e2834672b1b4da5, {\"title\": \"\\ud83c\\udf68 Most Popular Ice Cream Flavors\", \"data\": {\"datasets\": [{\"label\": \"scoop sold\", \"data\": [856, 423, 774]}], \"labels\": [\"\\ud83c\\udf6b Chocolate\", \"\\ud83e\\uded0 Blueberry\", \"\\ud83c\\udf53 Strawberry\"]}, \"xLabel\": \"Flavor Type\", \"yLabel\": \"Number of Scoops Sold\", \"options\": {\"yTickCount\": 3, \"dataColors\": [\"#8B4513\", \"#4169E1\", \"#FF69B4\"]}});\n",
       "        })\n",
       "    </script>\n"
      ],
      "text/plain": [
       "<cutecharts.render.engine.HTML at 0x2c80f06c890>"
      ]
     },
     "execution_count": 6,
     "metadata": {},
     "output_type": "execute_result"
    }
   ],
   "source": [
    "from cutecharts.charts import Bar\n",
    "\n",
    "\n",
    "def bar_base() -> Bar:\n",
    "    chart = Bar(\"🍨 Most Popular Ice Cream Flavors\")\n",
    "    labels = [\"🍫 Chocolate\", \"🫐 Blueberry\", \"🍓 Strawberry\"]\n",
    "    colors = [\"#8B4513\", \"#4169E1\", \"#FF69B4\"]\n",
    "\n",
    "    chart.set_options(\n",
    "        labels=labels,\n",
    "        x_label=\"Flavor Type\",\n",
    "        y_label=\"Number of Scoops Sold\",\n",
    "        colors=colors,\n",
    "    )\n",
    "    chart.add_series(\"scoop sold\", [856, 423, 774])\n",
    "    return chart\n",
    "\n",
    "\n",
    "bar_base().render_notebook()"
   ]
  },
  {
   "cell_type": "code",
   "execution_count": 17,
   "metadata": {},
   "outputs": [
    {
     "data": {
      "text/html": [
       "\n",
       "<script>\n",
       "    require.config({\n",
       "        paths: {\n",
       "            'chartXkcd':'https://cdn.jsdelivr.net/npm/chart.xkcd@1.1/dist/chart.xkcd.min'\n",
       "        }\n",
       "    });\n",
       "</script>\n",
       "\n",
       "<div id=\"ddd2b1b4a08847139a6de0df4750e5f8\" class=\"chart-container\" style=\"width: 800px\">\n",
       "        <svg id=\"chart_ddd2b1b4a08847139a6de0df4750e5f8\"></svg>\n",
       "    </div>\n",
       "    <script>\n",
       "        require(['chartXkcd'], function(chartXkcd) {\n",
       "            const svg_ddd2b1b4a08847139a6de0df4750e5f8 = document.querySelector('#chart_ddd2b1b4a08847139a6de0df4750e5f8')\n",
       "            const chart_ddd2b1b4a08847139a6de0df4750e5f8 = new chartXkcd.Line(svg_ddd2b1b4a08847139a6de0df4750e5f8, {\"title\": \"Titulo de gr\\u00e1fica\", \"data\": {\"datasets\": [{\"label\": \"series-A\", \"data\": [57, 134, 137, 129, 145, 60, 49]}, {\"label\": \"series-B\", \"data\": [114, 55, 27, 101, 125, 27, 105]}], \"labels\": [\"202201\", \"202202\", \"202203\", \"202204\", \"202205\", \"202206\", \"202207\"]}, \"xLabel\": \"eje X\", \"yLabel\": \"eje y\", \"options\": {\"yTickCount\": 3, \"legendPosition\": 1}});\n",
       "        })\n",
       "    </script>\n"
      ],
      "text/plain": [
       "<cutecharts.render.engine.HTML at 0x2c87f4f5490>"
      ]
     },
     "execution_count": 17,
     "metadata": {},
     "output_type": "execute_result"
    }
   ],
   "source": [
    "from cutecharts.charts import Line\n",
    "\n",
    "\n",
    "chart = Line(\"Titulo de gráfica\")\n",
    "chart.set_options(\n",
    "    labels=[\"202201\", \"202202\", \"202203\", \"202204\", \"202205\", \"202206\", \"202207\"], \n",
    "    x_label=\"eje X\", \n",
    "    y_label=\"eje y\",\n",
    ")\n",
    "chart.add_series(\"series-A\", [57, 134, 137, 129, 145, 60, 49])\n",
    "chart.add_series(\"series-B\", [114, 55, 27, 101, 125, 27, 105])\n",
    "chart.render_notebook()"
   ]
  }
 ],
 "metadata": {
  "kernelspec": {
   "display_name": ".venv",
   "language": "python",
   "name": "python3"
  },
  "language_info": {
   "codemirror_mode": {
    "name": "ipython",
    "version": 3
   },
   "file_extension": ".py",
   "mimetype": "text/x-python",
   "name": "python",
   "nbconvert_exporter": "python",
   "pygments_lexer": "ipython3",
   "version": "3.12.5"
  }
 },
 "nbformat": 4,
 "nbformat_minor": 2
}
