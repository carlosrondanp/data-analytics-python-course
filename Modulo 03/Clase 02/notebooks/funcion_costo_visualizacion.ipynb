{
 "cells": [
  {
   "cell_type": "code",
   "execution_count": 62,
   "metadata": {},
   "outputs": [],
   "source": [
    "%matplotlib inline"
   ]
  },
  {
   "cell_type": "code",
   "execution_count": 56,
   "metadata": {},
   "outputs": [
    {
     "data": {
      "application/vnd.jupyter.widget-view+json": {
       "model_id": "32d083382be44dd4a99d09931c3c3d84",
       "version_major": 2,
       "version_minor": 0
      },
      "text/plain": [
       "interactive(children=(IntSlider(value=200, description='w', max=400, step=10), IntSlider(value=0, description=…"
      ]
     },
     "metadata": {},
     "output_type": "display_data"
    },
    {
     "data": {
      "text/plain": [
       "<function __main__.plot_interactive(w=200, b=0)>"
      ]
     },
     "execution_count": 56,
     "metadata": {},
     "output_type": "execute_result"
    }
   ],
   "source": [
    "import numpy as np\n",
    "import matplotlib.pyplot as plt\n",
    "from ipywidgets import interact\n",
    "import ipywidgets as widgets\n",
    "\n",
    "# Datos simulados\n",
    "x = np.array([1, 1.5, 2, 2.5, 3])  # Tamaño de casas (1000 sqft)\n",
    "y_actual = np.array([400, 600, 800, 1000, 1200])  # Precio real (1000s de dólares)\n",
    "m = len(x)\n",
    "\n",
    "# Función de predicción\n",
    "def predict(x, w, b):\n",
    "    return w * x + b\n",
    "\n",
    "# Función de costo\n",
    "def cost_function(x, y, w, b):\n",
    "    predictions = predict(x, w, b)\n",
    "    cost = (1 / (2 * m)) * np.sum((predictions - y) ** 2)\n",
    "    return cost\n",
    "\n",
    "# Función para graficar\n",
    "def plot_interactive(w=200, b=0):\n",
    "    # Calcular predicciones y costo\n",
    "    y_pred = predict(x, w, b)\n",
    "    cost = cost_function(x, y_actual, w, b)\n",
    "\n",
    "    # Crear figura\n",
    "    fig, (ax1, ax2) = plt.subplots(1, 2, figsize=(12, 5))\n",
    "\n",
    "    # Gráfico 1: Predicciones vs Valores reales\n",
    "    ax1.plot(x, y_pred, label=\"Our Prediction\", color=\"blue\", linewidth=2)\n",
    "    ax1.scatter(x, y_actual, color=\"red\", label=\"Actual Value\", zorder=5)\n",
    "    ax1.vlines(x, y_pred, y_actual, colors=\"purple\", linestyles=\"dashed\", label=\"Cost for point\")\n",
    "    ax1.set_title(\"Housing Prices\")\n",
    "    ax1.set_xlabel(\"Size (1000 sqft)\")\n",
    "    ax1.set_ylabel(\"Price (in 1000s of dollars)\")\n",
    "    ax1.legend()\n",
    "    ax1.text(1.1, 300, f\"Cost = {cost:.2f}\", fontsize=12, color=\"purple\")\n",
    "\n",
    "    # Gráfico 2: Costo vs w (b fijo)\n",
    "    w_vals = np.linspace(0, 400, 100)\n",
    "    costs = [cost_function(x, y_actual, w_val, b) for w_val in w_vals]\n",
    "    ax2.plot(w_vals, costs, label=\"Cost\", color=\"blue\")\n",
    "    ax2.scatter([w], [cost_function(x, y_actual, w, b)], color=\"red\", label=f\"Cost at w={w}\")\n",
    "    ax2.set_title(\"Cost vs. w (b fixed)\")\n",
    "    ax2.set_xlabel(\"w\")\n",
    "    ax2.set_ylabel(\"Cost\")\n",
    "    ax2.legend()\n",
    "\n",
    "    plt.tight_layout()\n",
    "    plt.show()\n",
    "\n",
    "# Interactividad con ipywidgets\n",
    "interact(plot_interactive, \n",
    "         w=widgets.IntSlider(value=200, min=0, max=400, step=10, description=\"w\"), \n",
    "         b=widgets.IntSlider(value=0, min=-200, max=200, step=10, description=\"b\"))"
   ]
  },
  {
   "cell_type": "code",
   "execution_count": 57,
   "metadata": {},
   "outputs": [
    {
     "data": {
      "application/vnd.jupyter.widget-view+json": {
       "model_id": "bc60b8470a7a47aea96a807cfee0208f",
       "version_major": 2,
       "version_minor": 0
      },
      "text/plain": [
       "interactive(children=(FloatSlider(value=100.0, description='w', max=500.0, step=10.0), FloatSlider(value=0.0, …"
      ]
     },
     "metadata": {},
     "output_type": "display_data"
    },
    {
     "data": {
      "text/plain": [
       "<function __main__.update(w=100, b=0)>"
      ]
     },
     "execution_count": 57,
     "metadata": {},
     "output_type": "execute_result"
    }
   ],
   "source": [
    "import numpy as np\n",
    "import matplotlib.pyplot as plt\n",
    "from mpl_toolkits.mplot3d import Axes3D\n",
    "from ipywidgets import interact, FloatSlider\n",
    "import ipywidgets as widgets\n",
    "\n",
    "# Datos simulados\n",
    "x = np.array([1, 1.5, 2, 2.5, 3])  # Tamaños de casas (1000 sqft)\n",
    "y_actual = np.array([300, 400, 500, 600, 700])  # Precios reales (en 1000s de dólares)\n",
    "m = len(x)\n",
    "\n",
    "# Función de predicción\n",
    "def predict(x, w, b):\n",
    "    return w * x + b\n",
    "\n",
    "# Función de costo\n",
    "def cost_function(x, y, w, b):\n",
    "    predictions = predict(x, w, b)\n",
    "    cost = (1 / (2 * m)) * np.sum((predictions - y) ** 2)\n",
    "    return cost\n",
    "\n",
    "# Crear malla para la función de costo\n",
    "w_vals = np.linspace(0, 500, 100)\n",
    "b_vals = np.linspace(-200, 300, 100)\n",
    "W, B = np.meshgrid(w_vals, b_vals)\n",
    "Z = np.array([[cost_function(x, y_actual, w, b) for w in w_vals] for b in b_vals])\n",
    "\n",
    "# Función para actualizar las gráficas\n",
    "def update(w=100, b=0):\n",
    "    # Calcular predicciones y costo\n",
    "    y_pred = predict(x, w, b)\n",
    "    cost = cost_function(x, y_actual, w, b)\n",
    "\n",
    "    # Crear figura\n",
    "    fig = plt.figure(figsize=(12, 10))\n",
    "\n",
    "    # Subplot 1: Predicción vs Valores reales\n",
    "    ax1 = fig.add_subplot(2, 2, 1)\n",
    "    ax1.plot(x, y_pred, label=\"Our Prediction\", color=\"blue\", linewidth=2)\n",
    "    ax1.scatter(x, y_actual, color=\"red\", label=\"Actual Value\", zorder=5)\n",
    "    for i in range(len(x)):\n",
    "        ax1.vlines(x[i], y_pred[i], y_actual[i], colors=\"purple\", linestyles=\"dashed\", label=\"Cost for point\" if i == 0 else \"\")\n",
    "    ax1.set_title(\"Housing Prices\")\n",
    "    ax1.set_xlabel(\"Size (1000 sqft)\")\n",
    "    ax1.set_ylabel(\"Price (in 1000s of dollars)\")\n",
    "    ax1.legend()\n",
    "    ax1.text(1.1, 300, f\"Cost = {cost:.2f}\", fontsize=12, color=\"purple\")\n",
    "\n",
    "    # Subplot 2: Contorno de la función de costo\n",
    "    ax2 = fig.add_subplot(2, 2, 2)\n",
    "    contour = ax2.contour(W, B, Z, levels=50, cmap=\"viridis\")\n",
    "    ax2.scatter([w], [b], color=\"blue\", label=\"Current w, b\")\n",
    "    ax2.set_title(f\"Cost(w, b) - Cost: {cost:.2f}\")\n",
    "    ax2.set_xlabel(\"w\")\n",
    "    ax2.set_ylabel(\"b\")\n",
    "    ax2.legend()\n",
    "\n",
    "    # Subplot 3: Superficie 3D de la función de costo\n",
    "    ax3 = fig.add_subplot(2, 2, 3, projection=\"3d\")\n",
    "    ax3.plot_surface(W, B, Z, cmap=\"viridis\", alpha=0.8)\n",
    "    ax3.scatter([w], [b], [cost], color=\"red\", marker=\"x\", s=100, label=\"Current Point\")\n",
    "    ax3.set_title(\"Cost(w, b) [You can rotate this figure]\")\n",
    "    ax3.set_xlabel(\"w\")\n",
    "    ax3.set_ylabel(\"b\")\n",
    "    ax3.set_zlabel(\"J(w, b)\")\n",
    "    ax3.legend()\n",
    "\n",
    "    plt.tight_layout()\n",
    "    plt.show()\n",
    "\n",
    "# Crear sliders interactivos\n",
    "interactive_plot = interact(\n",
    "    update,\n",
    "    w=FloatSlider(value=100, min=0, max=500, step=10, description=\"w\"),\n",
    "    b=FloatSlider(value=0, min=-200, max=300, step=10, description=\"b\")\n",
    ")\n",
    "\n",
    "# Mostrar la interactividad\n",
    "interactive_plot"
   ]
  }
 ],
 "metadata": {
  "kernelspec": {
   "display_name": ".venv",
   "language": "python",
   "name": "python3"
  },
  "language_info": {
   "codemirror_mode": {
    "name": "ipython",
    "version": 3
   },
   "file_extension": ".py",
   "mimetype": "text/x-python",
   "name": "python",
   "nbconvert_exporter": "python",
   "pygments_lexer": "ipython3",
   "version": "3.12.5"
  }
 },
 "nbformat": 4,
 "nbformat_minor": 2
}
